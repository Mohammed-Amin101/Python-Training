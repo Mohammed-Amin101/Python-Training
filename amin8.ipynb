{
 "cells": [
  {
   "cell_type": "code",
   "execution_count": 29,
   "id": "b058f22e",
   "metadata": {},
   "outputs": [
    {
     "name": "stdout",
     "output_type": "stream",
     "text": [
      "Enter the num:5\n",
      "1 2 3 4 5 "
     ]
    }
   ],
   "source": [
    "def fun(n):  \n",
    "    if n>0:\n",
    "        fun(n-1)\n",
    "        print(n,end=\" \")\n",
    "    elif n==n:\n",
    "        return 200\n",
    "    \n",
    "a=int(input(\"Enter the num:\"))\n",
    "fun(a)"
   ]
  },
  {
   "cell_type": "code",
   "execution_count": 35,
   "id": "7c54c385",
   "metadata": {},
   "outputs": [
    {
     "name": "stdout",
     "output_type": "stream",
     "text": [
      "Enter the num:5\n",
      "5 4 3 2 1 None\n"
     ]
    }
   ],
   "source": [
    "def fun(n):\n",
    "    if n>0:\n",
    "        print(n,end=\" \")\n",
    "        fun(n-1)\n",
    "    elif n==0:\n",
    "        return 200\n",
    "a=int(input(\"Enter the num:\"))\n",
    "print(fun(a))"
   ]
  },
  {
   "cell_type": "code",
   "execution_count": 85,
   "id": "6d3d4c80",
   "metadata": {},
   "outputs": [
    {
     "name": "stdout",
     "output_type": "stream",
     "text": [
      "10\n",
      "10 9 8 7 6 5 4 3 2 1 0 None\n"
     ]
    }
   ],
   "source": [
    "def fun(n):\n",
    "    if n>0:\n",
    "        print(n,end=\" \")\n",
    "        t=fun(n-1)\n",
    "        return t\n",
    "    elif n==0:\n",
    "        fun(n-1)\n",
    "        print(n,end=\" \")\n",
    "        return fun(n-1)\n",
    "a=int(input())\n",
    "print(fun(a))"
   ]
  },
  {
   "cell_type": "code",
   "execution_count": 75,
   "id": "dd5bb703",
   "metadata": {},
   "outputs": [
    {
     "name": "stdout",
     "output_type": "stream",
     "text": [
      "Enter the num:10\n",
      "10 8 6 4 2 4 6 8 10 None\n"
     ]
    }
   ],
   "source": [
    "def fun(n):\n",
    "    if n>0:\n",
    "        print(n,end=\" \")\n",
    "        fun(n-2)\n",
    "        if n<a:\n",
    "            print(n+2,end=\" \")\n",
    "        else:\n",
    "            return \n",
    "a=int(input(\"Enter the num:\"))\n",
    "print(fun(a))"
   ]
  },
  {
   "cell_type": "code",
   "execution_count": 78,
   "id": "1f9f6759",
   "metadata": {},
   "outputs": [
    {
     "name": "stdout",
     "output_type": "stream",
     "text": [
      "10\n",
      "9 7 5 3 1 3 5 7 9 "
     ]
    }
   ],
   "source": [
    "def fun(n):\n",
    "    if n==0:\n",
    "        return\n",
    "    if n%2!=0:\n",
    "        print(n,end=\" \")\n",
    "    fun(n-1)\n",
    "    if n%2!=0 and n>1:\n",
    "        print(n,end=\" \")\n",
    "a=int(input())\n",
    "fun(a)"
   ]
  },
  {
   "cell_type": "code",
   "execution_count": 88,
   "id": "9c79198a",
   "metadata": {},
   "outputs": [
    {
     "name": "stdout",
     "output_type": "stream",
     "text": [
      "10\n"
     ]
    }
   ],
   "source": [
    "def fun(n):\n",
    "    if n%2!=0:\n",
    "        print(n,end=\" \")\n",
    "        fun(n+1)\n",
    "        if n%2!=0 and n>1:\n",
    "            print(n,end=\" \")\n",
    "        else:\n",
    "            return\n",
    "a=int(input())\n",
    "fun(a)"
   ]
  },
  {
   "cell_type": "code",
   "execution_count": null,
   "id": "82b57349",
   "metadata": {},
   "outputs": [],
   "source": [
    "def fun(n):\n",
    "    if n>0:\n",
    "        print(n,end=\" \")\n",
    "        fun(n-2)\n",
    "        if n<a:\n",
    "            print(n+2,end=\" \")\n",
    "        else:\n",
    "            return \n",
    "a=int(input(\"Enter the num:\"))\n",
    "print(fun(a))"
   ]
  },
  {
   "cell_type": "code",
   "execution_count": null,
   "id": "726731b4",
   "metadata": {
    "scrolled": true
   },
   "outputs": [],
   "source": [
    "def fun(n):\n",
    "    if n==0:\n",
    "        return\n",
    "    if n%2!=0:\n",
    "        print(n,end=\" \")\n",
    "    fun(n-1)\n",
    "    print(n,end=\" \")\n",
    "    fun(n-1)\n",
    "a=int(input(\"Enter the num:\"))\n",
    "fun(a)"
   ]
  },
  {
   "cell_type": "code",
   "execution_count": 96,
   "id": "c76fbdac",
   "metadata": {
    "scrolled": false
   },
   "outputs": [
    {
     "ename": "KeyboardInterrupt",
     "evalue": "Interrupted by user",
     "output_type": "error",
     "traceback": [
      "\u001b[0;31m---------------------------------------------------------------------------\u001b[0m",
      "\u001b[0;31mKeyboardInterrupt\u001b[0m                         Traceback (most recent call last)",
      "Input \u001b[0;32mIn [96]\u001b[0m, in \u001b[0;36m<cell line: 8>\u001b[0;34m()\u001b[0m\n\u001b[1;32m      5\u001b[0m     fun(n,m\u001b[38;5;241m-\u001b[39m\u001b[38;5;241m1\u001b[39m)\n\u001b[1;32m      6\u001b[0m     \u001b[38;5;28mprint\u001b[39m(m\u001b[38;5;241m+\u001b[39m\u001b[38;5;241m1\u001b[39m,end\u001b[38;5;241m=\u001b[39m\u001b[38;5;124m\"\u001b[39m\u001b[38;5;124m \u001b[39m\u001b[38;5;124m\"\u001b[39m)\n\u001b[0;32m----> 8\u001b[0m a\u001b[38;5;241m=\u001b[39m\u001b[38;5;28mint\u001b[39m(\u001b[38;5;28;43minput\u001b[39;49m\u001b[43m(\u001b[49m\u001b[38;5;124;43m\"\u001b[39;49m\u001b[38;5;124;43mEnter the num:\u001b[39;49m\u001b[38;5;124;43m\"\u001b[39;49m\u001b[43m)\u001b[49m)\n\u001b[1;32m      9\u001b[0m fun(a)\n",
      "File \u001b[0;32m/opt/soft/anaconda/lib/python3.9/site-packages/ipykernel/kernelbase.py:1075\u001b[0m, in \u001b[0;36mKernel.raw_input\u001b[0;34m(self, prompt)\u001b[0m\n\u001b[1;32m   1071\u001b[0m \u001b[38;5;28;01mif\u001b[39;00m \u001b[38;5;129;01mnot\u001b[39;00m \u001b[38;5;28mself\u001b[39m\u001b[38;5;241m.\u001b[39m_allow_stdin:\n\u001b[1;32m   1072\u001b[0m     \u001b[38;5;28;01mraise\u001b[39;00m StdinNotImplementedError(\n\u001b[1;32m   1073\u001b[0m         \u001b[38;5;124m\"\u001b[39m\u001b[38;5;124mraw_input was called, but this frontend does not support input requests.\u001b[39m\u001b[38;5;124m\"\u001b[39m\n\u001b[1;32m   1074\u001b[0m     )\n\u001b[0;32m-> 1075\u001b[0m \u001b[38;5;28;01mreturn\u001b[39;00m \u001b[38;5;28;43mself\u001b[39;49m\u001b[38;5;241;43m.\u001b[39;49m\u001b[43m_input_request\u001b[49m\u001b[43m(\u001b[49m\n\u001b[1;32m   1076\u001b[0m \u001b[43m    \u001b[49m\u001b[38;5;28;43mstr\u001b[39;49m\u001b[43m(\u001b[49m\u001b[43mprompt\u001b[49m\u001b[43m)\u001b[49m\u001b[43m,\u001b[49m\n\u001b[1;32m   1077\u001b[0m \u001b[43m    \u001b[49m\u001b[38;5;28;43mself\u001b[39;49m\u001b[38;5;241;43m.\u001b[39;49m\u001b[43m_parent_ident\u001b[49m\u001b[43m[\u001b[49m\u001b[38;5;124;43m\"\u001b[39;49m\u001b[38;5;124;43mshell\u001b[39;49m\u001b[38;5;124;43m\"\u001b[39;49m\u001b[43m]\u001b[49m\u001b[43m,\u001b[49m\n\u001b[1;32m   1078\u001b[0m \u001b[43m    \u001b[49m\u001b[38;5;28;43mself\u001b[39;49m\u001b[38;5;241;43m.\u001b[39;49m\u001b[43mget_parent\u001b[49m\u001b[43m(\u001b[49m\u001b[38;5;124;43m\"\u001b[39;49m\u001b[38;5;124;43mshell\u001b[39;49m\u001b[38;5;124;43m\"\u001b[39;49m\u001b[43m)\u001b[49m\u001b[43m,\u001b[49m\n\u001b[1;32m   1079\u001b[0m \u001b[43m    \u001b[49m\u001b[43mpassword\u001b[49m\u001b[38;5;241;43m=\u001b[39;49m\u001b[38;5;28;43;01mFalse\u001b[39;49;00m\u001b[43m,\u001b[49m\n\u001b[1;32m   1080\u001b[0m \u001b[43m\u001b[49m\u001b[43m)\u001b[49m\n",
      "File \u001b[0;32m/opt/soft/anaconda/lib/python3.9/site-packages/ipykernel/kernelbase.py:1120\u001b[0m, in \u001b[0;36mKernel._input_request\u001b[0;34m(self, prompt, ident, parent, password)\u001b[0m\n\u001b[1;32m   1117\u001b[0m             \u001b[38;5;28;01mbreak\u001b[39;00m\n\u001b[1;32m   1118\u001b[0m \u001b[38;5;28;01mexcept\u001b[39;00m \u001b[38;5;167;01mKeyboardInterrupt\u001b[39;00m:\n\u001b[1;32m   1119\u001b[0m     \u001b[38;5;66;03m# re-raise KeyboardInterrupt, to truncate traceback\u001b[39;00m\n\u001b[0;32m-> 1120\u001b[0m     \u001b[38;5;28;01mraise\u001b[39;00m \u001b[38;5;167;01mKeyboardInterrupt\u001b[39;00m(\u001b[38;5;124m\"\u001b[39m\u001b[38;5;124mInterrupted by user\u001b[39m\u001b[38;5;124m\"\u001b[39m) \u001b[38;5;28;01mfrom\u001b[39;00m \u001b[38;5;28mNone\u001b[39m\n\u001b[1;32m   1121\u001b[0m \u001b[38;5;28;01mexcept\u001b[39;00m \u001b[38;5;167;01mException\u001b[39;00m:\n\u001b[1;32m   1122\u001b[0m     \u001b[38;5;28mself\u001b[39m\u001b[38;5;241m.\u001b[39mlog\u001b[38;5;241m.\u001b[39mwarning(\u001b[38;5;124m\"\u001b[39m\u001b[38;5;124mInvalid Message:\u001b[39m\u001b[38;5;124m\"\u001b[39m, exc_info\u001b[38;5;241m=\u001b[39m\u001b[38;5;28;01mTrue\u001b[39;00m)\n",
      "\u001b[0;31mKeyboardInterrupt\u001b[0m: Interrupted by user"
     ]
    }
   ],
   "source": [
    "def fun(n,m=0):\n",
    "    if n==m:\n",
    "        return \n",
    "    print(m+1,end=\" \")\n",
    "    fun(n,m-1)\n",
    "    print(m+1,end=\" \")\n",
    "     \n",
    "a=int(input(\"Enter the num:\"))\n",
    "fun(a)"
   ]
  },
  {
   "cell_type": "code",
   "execution_count": 97,
   "id": "5d0ffc95",
   "metadata": {},
   "outputs": [
    {
     "name": "stdout",
     "output_type": "stream",
     "text": [
      "5\n"
     ]
    }
   ],
   "source": [
    "# Python3 program to count minimum \n",
    "# steps to reduce a number\n",
    "def fun(n):\n",
    "    if (n == 1):\n",
    "        return 0\n",
    "    elif (n % 2 == 0):\n",
    "        return 1 + fun(n / 2)\n",
    "    else:\n",
    "        return 1 + min(fun(n - 1), \n",
    "                    fun(n + 1))\n",
    "n = 15;\n",
    "print(fun(n))"
   ]
  },
  {
   "cell_type": "code",
   "execution_count": 99,
   "id": "490aa56d",
   "metadata": {},
   "outputs": [
    {
     "name": "stdout",
     "output_type": "stream",
     "text": [
      "Enter the num:20\n",
      "Not Perfect\n"
     ]
    }
   ],
   "source": [
    "def fun(n,i=1):\n",
    "    if i*i==n:\n",
    "        return True\n",
    "    if i*i>n:\n",
    "        return False\n",
    "    return fun(n,i+1)\n",
    "a=int(input(\"Enter the num:\"))\n",
    "if fun(a):\n",
    "    print(\"Perfect\")\n",
    "else:\n",
    "    print(\"Not Perfect\")"
   ]
  },
  {
   "cell_type": "code",
   "execution_count": 105,
   "id": "df4dbfae",
   "metadata": {},
   "outputs": [
    {
     "name": "stdout",
     "output_type": "stream",
     "text": [
      "4\n"
     ]
    }
   ],
   "source": [
    "def fire(matrix,i,j):\n",
    "    if i<0 or i>=len(matrix) or j<0 or j>=len(matrix[0]) or matrix[i][j]!=1:\n",
    "        return\n",
    "    matrix[i][j]=2\n",
    "    fire(matrix,i-1,j)\n",
    "    fire(matrix,i+1,j)\n",
    "    fire(matrix,i,j-1)\n",
    "    fire(matrix,i,j+1)\n",
    "    \n",
    "matrix=[[1,1,0,1],\n",
    "        [1,1,0,1],\n",
    "        [1,0,0,1],\n",
    "        [1,0,1,0]]\n",
    "fire(matrix,0,0)\n",
    "count=0\n",
    "for i in range(len(matrix)):\n",
    "    for j in range(len(matrix[0])):\n",
    "        if matrix[i][j]==1:\n",
    "            count+=1\n",
    "print(count)"
   ]
  },
  {
   "cell_type": "code",
   "execution_count": 114,
   "id": "129d0026",
   "metadata": {},
   "outputs": [
    {
     "name": "stdout",
     "output_type": "stream",
     "text": [
      "DDRR\n",
      "DRDR\n"
     ]
    }
   ],
   "source": [
    "def path(grid,i,j,p,n):\n",
    "    if i==n-1 and j==n-1:\n",
    "        print(p)\n",
    "        return\n",
    "    if i+1<n and grid[i][j]==1:\n",
    "        path(grid,i+1,j,p+\"D\",n)\n",
    "    if j+1<n and grid[i][j]==1:\n",
    "        path(grid,i,j+1,p+\"R\",n)\n",
    "matrix=[[1,0,0],\n",
    "        [1,1,0],\n",
    "        [1,1,1]]\n",
    "path(matrix,0,0,\"\",len(matrix))"
   ]
  },
  {
   "cell_type": "code",
   "execution_count": 113,
   "id": "13b402fb",
   "metadata": {},
   "outputs": [
    {
     "name": "stdout",
     "output_type": "stream",
     "text": [
      "DDRR\n",
      "DRDR\n"
     ]
    }
   ],
   "source": [
    "def path(grid,i,j,p,n):\n",
    "    if i==n-1 and j==n-1:\n",
    "        print(p)\n",
    "        return\n",
    "    if i+1<n and grid[i][j]==1:\n",
    "        path(grid,i+1,j,p+\"D\",n)\n",
    "    if j+1<n and grid[i][j]==1:\n",
    "        path(grid,i,j+1,p+\"R\",n)\n",
    "matrix=[[1,0,0],\n",
    "        [1,1,0],\n",
    "        [1,1,1]]\n",
    "path(matrix,0,0,\"\",len(matrix))"
   ]
  },
  {
   "cell_type": "code",
   "execution_count": null,
   "id": "a2eb2287",
   "metadata": {},
   "outputs": [],
   "source": []
  },
  {
   "cell_type": "code",
   "execution_count": 118,
   "id": "d4dd5c0c",
   "metadata": {},
   "outputs": [],
   "source": [
    "s=\"AMIN\"\n",
    "s=s.lower()"
   ]
  },
  {
   "cell_type": "code",
   "execution_count": null,
   "id": "8546a9b4",
   "metadata": {},
   "outputs": [],
   "source": []
  }
 ],
 "metadata": {
  "kernelspec": {
   "display_name": "Python 3 (ipykernel)",
   "language": "python",
   "name": "python3"
  },
  "language_info": {
   "codemirror_mode": {
    "name": "ipython",
    "version": 3
   },
   "file_extension": ".py",
   "mimetype": "text/x-python",
   "name": "python",
   "nbconvert_exporter": "python",
   "pygments_lexer": "ipython3",
   "version": "3.9.12"
  }
 },
 "nbformat": 4,
 "nbformat_minor": 5
}
