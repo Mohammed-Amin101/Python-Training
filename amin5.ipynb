{
 "cells": [
  {
   "cell_type": "code",
   "execution_count": 8,
   "id": "d40f725f",
   "metadata": {},
   "outputs": [
    {
     "name": "stdout",
     "output_type": "stream",
     "text": [
      "5\n"
     ]
    }
   ],
   "source": [
    "l=[3,2,1,4,5,7,8,9]\n",
    "k=7\n",
    "for i in range(len(l)):\n",
    "    if k==l[i]:\n",
    "        print(i)\n",
    "        break\n",
    "else:\n",
    "    print(False)"
   ]
  },
  {
   "cell_type": "code",
   "execution_count": 4,
   "id": "aa7d7da9",
   "metadata": {},
   "outputs": [
    {
     "name": "stdout",
     "output_type": "stream",
     "text": [
      "5\n"
     ]
    }
   ],
   "source": [
    "l=[3,2,1,4,5,7,8,9]\n",
    "k=7\n",
    "if k in l:\n",
    "    print(l.index(k))\n",
    "else:\n",
    "    print(False)"
   ]
  },
  {
   "cell_type": "code",
   "execution_count": 11,
   "id": "bac60780",
   "metadata": {},
   "outputs": [
    {
     "name": "stdout",
     "output_type": "stream",
     "text": [
      "True 2 0\n"
     ]
    }
   ],
   "source": [
    "l=[[6,7,8],[1,5,9],[12,10,2]]\n",
    "k=12\n",
    "for i in range(len(l)):\n",
    "    for j in range(len(l[0])):\n",
    "        if l[i][j]==k:\n",
    "            flag=1\n",
    "            print(True,i,j)\n",
    "            break\n",
    "if flag==0:\n",
    "    print(False)"
   ]
  },
  {
   "cell_type": "code",
   "execution_count": null,
   "id": "4543a4a0",
   "metadata": {},
   "outputs": [],
   "source": []
  }
 ],
 "metadata": {
  "kernelspec": {
   "display_name": "Python 3 (ipykernel)",
   "language": "python",
   "name": "python3"
  },
  "language_info": {
   "codemirror_mode": {
    "name": "ipython",
    "version": 3
   },
   "file_extension": ".py",
   "mimetype": "text/x-python",
   "name": "python",
   "nbconvert_exporter": "python",
   "pygments_lexer": "ipython3",
   "version": "3.9.12"
  }
 },
 "nbformat": 4,
 "nbformat_minor": 5
}
