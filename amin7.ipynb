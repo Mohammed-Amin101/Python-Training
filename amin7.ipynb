{
 "cells": [
  {
   "cell_type": "code",
   "execution_count": 3,
   "id": "60fa3b92",
   "metadata": {},
   "outputs": [
    {
     "name": "stdout",
     "output_type": "stream",
     "text": [
      "5 8\n"
     ]
    }
   ],
   "source": [
    "l=[3,2,4,2]\n",
    "n=len(l)\n",
    "x=3\n",
    "arr=[]\n",
    "for i in range(n):\n",
    "    arr.extend([i+1]*l[i])\n",
    "l,r=0,0\n",
    "for i in range(len(arr)):\n",
    "    if arr[i]==x:\n",
    "        l=i\n",
    "        break\n",
    "for i in range(len(arr)-1,-1,-1):\n",
    "    if arr[i]==x:\n",
    "        r=i\n",
    "        break\n",
    "print(l,r)"
   ]
  },
  {
   "cell_type": "code",
   "execution_count": 7,
   "id": "969613b0",
   "metadata": {},
   "outputs": [
    {
     "name": "stdout",
     "output_type": "stream",
     "text": [
      "[]\n"
     ]
    }
   ],
   "source": [
    "str='abba'\n",
    "a=[]\n",
    "b=[]\n",
    "for i in a:\n",
    "    if a[i]==a[i+1]:\n",
    "        a.pop(i,i+1)\n",
    "    else:\n",
    "        b.append()\n",
    "print(b)"
   ]
  },
  {
   "cell_type": "code",
   "execution_count": 15,
   "id": "03df2f9f",
   "metadata": {},
   "outputs": [
    {
     "name": "stdout",
     "output_type": "stream",
     "text": [
      "abcd*f\n"
     ]
    }
   ],
   "source": [
    "s='abc**d*f'\n",
    "stack =[]\n",
    "for c in s:\n",
    "    if stack and stack[-1]==c:\n",
    "        stack.pop()\n",
    "    else:\n",
    "        stack.append(c)\n",
    "print(\"\".join(stack))"
   ]
  },
  {
   "cell_type": "code",
   "execution_count": 18,
   "id": "4ee76ee8",
   "metadata": {},
   "outputs": [
    {
     "name": "stdout",
     "output_type": "stream",
     "text": [
      "af\n"
     ]
    }
   ],
   "source": [
    "s='abc**d*f'\n",
    "a =[]\n",
    "for i in s:\n",
    "    if i=='*':\n",
    "        a.pop()\n",
    "    else:\n",
    "        a.append(i)\n",
    "print(\"\".join(a))"
   ]
  },
  {
   "cell_type": "code",
   "execution_count": null,
   "id": "9e9a318d",
   "metadata": {},
   "outputs": [],
   "source": []
  }
 ],
 "metadata": {
  "kernelspec": {
   "display_name": "Python 3 (ipykernel)",
   "language": "python",
   "name": "python3"
  },
  "language_info": {
   "codemirror_mode": {
    "name": "ipython",
    "version": 3
   },
   "file_extension": ".py",
   "mimetype": "text/x-python",
   "name": "python",
   "nbconvert_exporter": "python",
   "pygments_lexer": "ipython3",
   "version": "3.9.12"
  }
 },
 "nbformat": 4,
 "nbformat_minor": 5
}
