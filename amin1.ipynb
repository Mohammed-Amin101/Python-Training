{
 "cells": [
  {
   "cell_type": "code",
   "execution_count": 7,
   "id": "7945cc91",
   "metadata": {},
   "outputs": [
    {
     "name": "stdout",
     "output_type": "stream",
     "text": [
      "Enter number:1234\n",
      "6\n"
     ]
    }
   ],
   "source": [
    "n = int(input(\"Enter number:\"))\n",
    "rem =0\n",
    "while n:\n",
    "    d=n%10\n",
    "    rem = rem%10+d\n",
    "    n=n//10\n",
    "print(rem)"
   ]
  },
  {
   "cell_type": "markdown",
   "id": "a3adbac9",
   "metadata": {},
   "source": [
    "# Problem 427A"
   ]
  },
  {
   "cell_type": "code",
   "execution_count": 14,
   "id": "22eeeeae",
   "metadata": {
    "scrolled": true
   },
   "outputs": [
    {
     "name": "stdout",
     "output_type": "stream",
     "text": [
      "Enter number of events8\n",
      "Enter list of events1 -1 1 -1 -1 1 1 1\n",
      "1\n"
     ]
    }
   ],
   "source": [
    "n = int(input(\"Enter number of events\"))\n",
    "police,unsolved = 0,0\n",
    "p = list(map(int,input(\"Enter list of events\").split()))\n",
    "for e in p:\n",
    "    if e ==-1:\n",
    "        if police>0:\n",
    "            police-=1\n",
    "        else:\n",
    "            unsolved+=1\n",
    "    else:\n",
    "        police+=e\n",
    "print(unsolved)\n"
   ]
  },
  {
   "cell_type": "code",
   "execution_count": null,
   "id": "57d88e23",
   "metadata": {},
   "outputs": [],
   "source": [
    "n =list(map(int,input(\"Enter no.of buildings\").split()))\n",
    "shadows =0\n",
    "for i in range"
   ]
  },
  {
   "cell_type": "code",
   "execution_count": 18,
   "id": "1a00267a",
   "metadata": {},
   "outputs": [
    {
     "name": "stdout",
     "output_type": "stream",
     "text": [
      "40\n"
     ]
    }
   ],
   "source": [
    "l=[1,2,5,40]\n",
    "m = 0\n",
    "for i in l:\n",
    "    if i>m:\n",
    "        m = i\n",
    "    else:\n",
    "        i+=1\n",
    "print(m)"
   ]
  },
  {
   "cell_type": "code",
   "execution_count": 21,
   "id": "e02a2f82",
   "metadata": {},
   "outputs": [
    {
     "name": "stdout",
     "output_type": "stream",
     "text": [
      "1 3 4 5 3 4\n",
      "4\n"
     ]
    }
   ],
   "source": [
    "l=list(map(int,input(\"\").split()))\n",
    "m,count = 0,0\n",
    "for i in l:\n",
    "    if i>m:\n",
    "        m =i\n",
    "        count+=1\n",
    "print(count)\n",
    "    "
   ]
  },
  {
   "cell_type": "code",
   "execution_count": 27,
   "id": "2ed83e0d",
   "metadata": {},
   "outputs": [
    {
     "name": "stdout",
     "output_type": "stream",
     "text": [
      "5\n"
     ]
    }
   ],
   "source": [
    "l=[1,2,3,4,5]\n",
    "m=0\n",
    "for i in l:\n",
    "    if i>m:\n",
    "        m=i\n",
    "l.remove(m)\n",
    "for i in l:\n",
    "    if i>m:\n",
    "        m=i\n",
    "print(m)                                                                  "
   ]
  },
  {
   "cell_type": "code",
   "execution_count": 33,
   "id": "6536546a",
   "metadata": {},
   "outputs": [
    {
     "name": "stdout",
     "output_type": "stream",
     "text": [
      "5\n"
     ]
    }
   ],
   "source": [
    "l=[1,2,3,4,6,5]\n",
    "m1=0\n",
    "for i in l:\n",
    "    if i>m1:\n",
    "        m1=i\n",
    "m2=0\n",
    "for i in l:\n",
    "    if i>m2 and i!=m1:\n",
    "        m2=i\n",
    "print(m2)"
   ]
  },
  {
   "cell_type": "code",
   "execution_count": 37,
   "id": "8dbb571e",
   "metadata": {},
   "outputs": [
    {
     "name": "stdout",
     "output_type": "stream",
     "text": [
      "5\n"
     ]
    }
   ],
   "source": [
    "l=[6,5,3,4]\n",
    "m1=0\n",
    "for i in l:\n",
    "    if i>m1:\n",
    "        m1=i\n",
    "m2=0\n",
    "for i in l:\n",
    "    if i>m2 and i!=m1:\n",
    "        m2=i\n",
    "print(m2)"
   ]
  },
  {
   "cell_type": "code",
   "execution_count": 42,
   "id": "71628f54",
   "metadata": {},
   "outputs": [
    {
     "name": "stdout",
     "output_type": "stream",
     "text": [
      "Enter number:41\n",
      "1\n"
     ]
    }
   ],
   "source": [
    "#XOR\n",
    "n=int(input(\"Enter number:\"))\n",
    "if n%4==1:\n",
    "    print(1)\n",
    "if n%4==2:\n",
    "    print(n+1)\n",
    "if n%4==3:\n",
    "    print(0)\n",
    "if n%4==0:\n",
    "    print(n)\n"
   ]
  },
  {
   "cell_type": "code",
   "execution_count": 48,
   "id": "99ca0434",
   "metadata": {},
   "outputs": [
    {
     "name": "stdout",
     "output_type": "stream",
     "text": [
      "Enter the lower limit :2\n",
      "Enter the upper limit :6\n",
      "6\n"
     ]
    }
   ],
   "source": [
    "def find_xor(n):\n",
    "    if n%4==1:\n",
    "        return(1)\n",
    "    if n%4==2:\n",
    "        return(n+1)\n",
    "    if n%4==3:\n",
    "        return(0)\n",
    "    if n%4==0:\n",
    "        return(n)\n",
    "\n",
    "l =int(input(\"Enter the lower limit :\"))\n",
    "r =int(input(\"Enter the upper limit :\"))\n",
    "a=find_xor(r)\n",
    "b=find_xor(l-1)\n",
    "print(a^b)"
   ]
  },
  {
   "cell_type": "code",
   "execution_count": null,
   "id": "bd48efcf",
   "metadata": {},
   "outputs": [],
   "source": []
  }
 ],
 "metadata": {
  "kernelspec": {
   "display_name": "Python 3 (ipykernel)",
   "language": "python",
   "name": "python3"
  },
  "language_info": {
   "codemirror_mode": {
    "name": "ipython",
    "version": 3
   },
   "file_extension": ".py",
   "mimetype": "text/x-python",
   "name": "python",
   "nbconvert_exporter": "python",
   "pygments_lexer": "ipython3",
   "version": "3.9.12"
  }
 },
 "nbformat": 4,
 "nbformat_minor": 5
}
