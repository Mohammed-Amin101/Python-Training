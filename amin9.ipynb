{
 "cells": [
  {
   "cell_type": "code",
   "execution_count": 1,
   "id": "c428fd68",
   "metadata": {},
   "outputs": [
    {
     "name": "stdout",
     "output_type": "stream",
     "text": [
      "1\n",
      "1\n",
      "4\n",
      "4\n",
      "4\n",
      "4\n"
     ]
    }
   ],
   "source": [
    "    s=\"dabbac\"    \n",
    "    m=0\n",
    "    for i in range(len(s)):\n",
    "        r,l=i,i\n",
    "        while l>=0 and r<len(s) and s[l]==s[r]:\n",
    "            m=max(m,r-l+1)\n",
    "            r+=1\n",
    "            l-=1\n",
    "        r,l=i+1,i\n",
    "        while l>=0 and r<len(s) and s[l]==s[r]:\n",
    "                m=max(m,r-l+1)\n",
    "                r+=1\n",
    "                l-=1\n",
    "        print(m)"
   ]
  },
  {
   "cell_type": "code",
   "execution_count": 19,
   "id": "2635aafc",
   "metadata": {
    "scrolled": true
   },
   "outputs": [
    {
     "name": "stdout",
     "output_type": "stream",
     "text": [
      "20\n",
      "6765\n"
     ]
    }
   ],
   "source": [
    "def fib(n):\n",
    "    if n==0 or n==1 :\n",
    "        return n\n",
    "    a=fib(n-1)+fib(n-2)\n",
    "    return a\n",
    "n=int(input())\n",
    "print(fib(n))    "
   ]
  },
  {
   "cell_type": "code",
   "execution_count": 20,
   "id": "4764bd37",
   "metadata": {},
   "outputs": [
    {
     "name": "stdout",
     "output_type": "stream",
     "text": [
      "Enter the num: 7\n",
      "13\n"
     ]
    }
   ],
   "source": [
    "def fib(n,dp):\n",
    "    if n==0 or n==1:\n",
    "        return n\n",
    "    if dp[n]!=-1:\n",
    "        return dp[n]\n",
    "    dp[n]=fib(n-1,dp)+fib(n-2,dp)\n",
    "    return dp[n]\n",
    "n=int(input(\"Enter the num: \"))\n",
    "dp=[-1]*(n+1)\n",
    "print(fib(n,dp))"
   ]
  },
  {
   "cell_type": "code",
   "execution_count": 25,
   "id": "e64d14e2",
   "metadata": {},
   "outputs": [
    {
     "name": "stdout",
     "output_type": "stream",
     "text": [
      "Enter num80\n",
      "23416728348467685\n"
     ]
    }
   ],
   "source": [
    "n=int(input(\"Enter num\"))\n",
    "dp=[-1]*(n+1)\n",
    "dp[0],dp[1]=0,1\n",
    "for i in range(2,n+1):\n",
    "    dp[i]=dp[i-1]+dp[i-2]\n",
    "print(dp[n])"
   ]
  },
  {
   "cell_type": "code",
   "execution_count": 26,
   "id": "e7ac9fb8",
   "metadata": {},
   "outputs": [
    {
     "name": "stdout",
     "output_type": "stream",
     "text": [
      "2\n",
      "1\n"
     ]
    }
   ],
   "source": [
    "def fib(n):\n",
    "    if n==0 or n==1 :\n",
    "        return n\n",
    "    a=fib(n-1)+fib(n-2)\n",
    "    return a\n",
    "n=int(input())\n",
    "print(fib(n)) "
   ]
  },
  {
   "cell_type": "code",
   "execution_count": 29,
   "id": "ec6cbc00",
   "metadata": {},
   "outputs": [
    {
     "name": "stdout",
     "output_type": "stream",
     "text": [
      "40\n"
     ]
    }
   ],
   "source": [
    "def frog_jump(n,energy,dp):\n",
    "    if n==0:\n",
    "        return 0\n",
    "    if dp[n]!=-1:\n",
    "        return dp[n]\n",
    "    jump1=frog_jump(n-1,energy,dp)+abs(energy[n]-energy[n-1 ])\n",
    "    jump2=float('inf')\n",
    "    if n>1:\n",
    "        jump2=frog_jump(n-2,energy,dp)+abs(energy[n]-energy[n-2])\n",
    "    dp[n]=min(jump1,jump2)\n",
    "    return dp[n]\n",
    "energy=[30,10,60,10,60,50]\n",
    "n=len(energy)-1\n",
    "dp=[-1]*(n+1)\n",
    "print(frog_jump(n,energy,dp))"
   ]
  },
  {
   "cell_type": "code",
   "execution_count": 28,
   "id": "6375e9b9",
   "metadata": {},
   "outputs": [
    {
     "name": "stdout",
     "output_type": "stream",
     "text": [
      "40\n"
     ]
    }
   ],
   "source": [
    "energy =[30,10,60,10,60,50]\n",
    "n=len(energy)\n",
    "dp=[-1]*n\n",
    "dp[0]=0\n",
    "for i in range(1,n):\n",
    "    jump1=dp[i-1]+abs(energy[i]-energy[i-1])\n",
    "    jump2=float('inf')\n",
    "    if n>1:\n",
    "        jump2=dp[i-2]+abs(energy[i]-energy[i-2])\n",
    "    dp[i]=min(jump1,jump2)\n",
    "print(dp[n-1])"
   ]
  },
  {
   "cell_type": "code",
   "execution_count": null,
   "id": "f0bbece6",
   "metadata": {},
   "outputs": [],
   "source": []
  }
 ],
 "metadata": {
  "kernelspec": {
   "display_name": "Python 3 (ipykernel)",
   "language": "python",
   "name": "python3"
  },
  "language_info": {
   "codemirror_mode": {
    "name": "ipython",
    "version": 3
   },
   "file_extension": ".py",
   "mimetype": "text/x-python",
   "name": "python",
   "nbconvert_exporter": "python",
   "pygments_lexer": "ipython3",
   "version": "3.9.12"
  }
 },
 "nbformat": 4,
 "nbformat_minor": 5
}
